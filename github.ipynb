{
 "cells": [
  {
   "cell_type": "markdown",
   "metadata": {
    "toc": true
   },
   "source": [
    "<h1>Table of Contents<span class=\"tocSkip\"></span></h1>\n",
    "<div class=\"toc\"><ul class=\"toc-item\"><li><span><a href=\"#Creating-a-Repo\" data-toc-modified-id=\"Creating-a-Repo-1\"><span class=\"toc-item-num\">1&nbsp;&nbsp;</span>Creating a Repo</a></span><ul class=\"toc-item\"><li><span><a href=\"#With-GitHub\" data-toc-modified-id=\"With-GitHub-1.1\"><span class=\"toc-item-num\">1.1&nbsp;&nbsp;</span>With GitHub</a></span></li><li><span><a href=\"#From-Local\" data-toc-modified-id=\"From-Local-1.2\"><span class=\"toc-item-num\">1.2&nbsp;&nbsp;</span>From Local</a></span></li><li><span><a href=\"#Get-Changes-to-Local\" data-toc-modified-id=\"Get-Changes-to-Local-1.3\"><span class=\"toc-item-num\">1.3&nbsp;&nbsp;</span>Get Changes to Local</a></span></li></ul></li></ul></div>"
   ]
  },
  {
   "cell_type": "markdown",
   "metadata": {
    "heading_collapsed": true
   },
   "source": [
    "# Creating a Repo"
   ]
  },
  {
   "cell_type": "markdown",
   "metadata": {
    "heading_collapsed": true,
    "hidden": true
   },
   "source": [
    "## With GitHub"
   ]
  },
  {
   "cell_type": "markdown",
   "metadata": {
    "hidden": true
   },
   "source": [
    "Create the repo on your local machine via GitHub (repo already has to exist)\n",
    "\n",
    "```\n",
    "git clone url_from_github\n",
    "```"
   ]
  },
  {
   "cell_type": "markdown",
   "metadata": {
    "heading_collapsed": true,
    "hidden": true
   },
   "source": [
    "## From Local"
   ]
  },
  {
   "cell_type": "markdown",
   "metadata": {
    "hidden": true
   },
   "source": [
    "```\n",
    "git init\n",
    "git add .\n",
    "git commit -m \"First commit\"\n",
    "```"
   ]
  },
  {
   "cell_type": "markdown",
   "metadata": {
    "hidden": true
   },
   "source": [
    "Syncing up with GitHub:\n",
    "\n",
    "```\n",
    "git remote add origin the_url_for_the_repo\n",
    "git push -u origin master\n",
    "```"
   ]
  },
  {
   "cell_type": "markdown",
   "metadata": {
    "hidden": true
   },
   "source": [
    "This command above will also set up an **upstream** which you can think of as a path to push your current branch (see [git_collaboration.ipynb](git_collaboration.ipynb) for more about branches) to the remote repository."
   ]
  },
  {
   "cell_type": "markdown",
   "metadata": {
    "heading_collapsed": true,
    "hidden": true
   },
   "source": [
    "## Get Changes to Local"
   ]
  },
  {
   "cell_type": "markdown",
   "metadata": {
    "hidden": true
   },
   "source": [
    "This is is an important step in making sure your remote branch (GitHub) and your local branch are in sync. If you make changes to your GitHub repo ***you should do a `git pull` first*** or else face the wrath of a **[merge conflict](git_advanced.ipynb)**. "
   ]
  },
  {
   "cell_type": "markdown",
   "metadata": {
    "hidden": true
   },
   "source": [
    "```\n",
    "git pull\n",
    "```"
   ]
  }
 ],
 "metadata": {
  "kernelspec": {
   "display_name": "Python 3",
   "language": "python",
   "name": "python3"
  },
  "language_info": {
   "codemirror_mode": {
    "name": "ipython",
    "version": 3
   },
   "file_extension": ".py",
   "mimetype": "text/x-python",
   "name": "python",
   "nbconvert_exporter": "python",
   "pygments_lexer": "ipython3",
   "version": "3.8.5"
  },
  "toc": {
   "base_numbering": 1,
   "nav_menu": {},
   "number_sections": true,
   "sideBar": false,
   "skip_h1_title": false,
   "title_cell": "Table of Contents",
   "title_sidebar": "Contents",
   "toc_cell": true,
   "toc_position": {},
   "toc_section_display": false,
   "toc_window_display": false
  },
  "varInspector": {
   "cols": {
    "lenName": 16,
    "lenType": 16,
    "lenVar": 40
   },
   "kernels_config": {
    "python": {
     "delete_cmd_postfix": "",
     "delete_cmd_prefix": "del ",
     "library": "var_list.py",
     "varRefreshCmd": "print(var_dic_list())"
    },
    "r": {
     "delete_cmd_postfix": ") ",
     "delete_cmd_prefix": "rm(",
     "library": "var_list.r",
     "varRefreshCmd": "cat(var_dic_list()) "
    }
   },
   "types_to_exclude": [
    "module",
    "function",
    "builtin_function_or_method",
    "instance",
    "_Feature"
   ],
   "window_display": false
  }
 },
 "nbformat": 4,
 "nbformat_minor": 2
}
