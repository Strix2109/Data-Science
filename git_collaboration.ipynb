{
 "cells": [
  {
   "cell_type": "markdown",
   "metadata": {
    "toc": true
   },
   "source": [
    "<h1>Table of Contents<span class=\"tocSkip\"></span></h1>\n",
    "<div class=\"toc\"><ul class=\"toc-item\"><li><span><a href=\"#Collaborating-with-Git:-Branches\" data-toc-modified-id=\"Collaborating-with-Git:-Branches-1\"><span class=\"toc-item-num\">1&nbsp;&nbsp;</span>Collaborating with Git: Branches</a></span><ul class=\"toc-item\"><li><span><a href=\"#Looking-at-our-branches\" data-toc-modified-id=\"Looking-at-our-branches-1.1\"><span class=\"toc-item-num\">1.1&nbsp;&nbsp;</span>Looking at our branches</a></span></li><li><span><a href=\"#Checking-out-a-library-book-a-branch\" data-toc-modified-id=\"Checking-out-a-library-book-a-branch-1.2\"><span class=\"toc-item-num\">1.2&nbsp;&nbsp;</span>Checking out a <del>library book</del> a branch</a></span><ul class=\"toc-item\"><li><span><a href=\"#Creating-a-new-branch\" data-toc-modified-id=\"Creating-a-new-branch-1.2.1\"><span class=\"toc-item-num\">1.2.1&nbsp;&nbsp;</span>Creating a new branch</a></span></li><li><span><a href=\"#Work-on-an-existing-branch\" data-toc-modified-id=\"Work-on-an-existing-branch-1.2.2\"><span class=\"toc-item-num\">1.2.2&nbsp;&nbsp;</span>Work on an existing branch</a></span><ul class=\"toc-item\"><li><span><a href=\"#Extra-note-on-checking-out-a-commit\" data-toc-modified-id=\"Extra-note-on-checking-out-a-commit-1.2.2.1\"><span class=\"toc-item-num\">1.2.2.1&nbsp;&nbsp;</span>Extra note on checking out a commit</a></span></li></ul></li><li><span><a href=\"#A-note-on-remote-branches\" data-toc-modified-id=\"A-note-on-remote-branches-1.2.3\"><span class=\"toc-item-num\">1.2.3&nbsp;&nbsp;</span>A note on remote branches</a></span></li></ul></li></ul></li><li><span><a href=\"#Merges\" data-toc-modified-id=\"Merges-2\"><span class=\"toc-item-num\">2&nbsp;&nbsp;</span>Merges</a></span><ul class=\"toc-item\"><li><span><a href=\"#When-There's-Conflict\" data-toc-modified-id=\"When-There's-Conflict-2.1\"><span class=\"toc-item-num\">2.1&nbsp;&nbsp;</span>When There's Conflict</a></span></li></ul></li></ul></div>"
   ]
  },
  {
   "cell_type": "markdown",
   "metadata": {
    "heading_collapsed": true
   },
   "source": [
    "# Collaborating with Git: Branches"
   ]
  },
  {
   "cell_type": "markdown",
   "metadata": {
    "hidden": true
   },
   "source": [
    "Branches can be super helpful in creating tweaks to your original version. There can be branches for different features or used by different teams. This can allow for variations of the same base project to be worked on simultaneously.\n",
    "\n",
    "You can also combine branches called **merging** when you might integrate the work together to share a common timeline."
   ]
  },
  {
   "cell_type": "markdown",
   "metadata": {
    "hidden": true
   },
   "source": [
    "<img src='https://www.atlassian.com/dam/jcr:746be214-eb99-462c-9319-04a4d2eeebfa/01.svg' width=80%/>\n",
    "\n",
    "> https://www.atlassian.com/git/tutorials/using-branches"
   ]
  },
  {
   "cell_type": "markdown",
   "metadata": {
    "heading_collapsed": true,
    "hidden": true
   },
   "source": [
    "## Looking at our branches "
   ]
  },
  {
   "cell_type": "markdown",
   "metadata": {
    "hidden": true
   },
   "source": [
    "We can use the command below to see what branches are available (note these are just ones locally you made)"
   ]
  },
  {
   "cell_type": "markdown",
   "metadata": {
    "ExecuteTime": {
     "end_time": "2019-07-09T21:55:11.225894Z",
     "start_time": "2019-07-09T21:55:11.222782Z"
    },
    "hidden": true
   },
   "source": [
    "```\n",
    "git branch\n",
    "```"
   ]
  },
  {
   "cell_type": "markdown",
   "metadata": {
    "hidden": true
   },
   "source": [
    "We can use the below line to see a prettified look at our repo's history (including branches)"
   ]
  },
  {
   "cell_type": "markdown",
   "metadata": {
    "hidden": true
   },
   "source": [
    "```\n",
    "git log --graph --decorate --oneline\n",
    "```"
   ]
  },
  {
   "cell_type": "markdown",
   "metadata": {
    "heading_collapsed": true,
    "hidden": true
   },
   "source": [
    "## Checking out a ~~library book~~ a branch"
   ]
  },
  {
   "cell_type": "markdown",
   "metadata": {
    "hidden": true
   },
   "source": [
    "We can use **checkout** to create branches or start working on existing branch"
   ]
  },
  {
   "cell_type": "markdown",
   "metadata": {
    "heading_collapsed": true,
    "hidden": true
   },
   "source": [
    "### Creating a new branch"
   ]
  },
  {
   "cell_type": "markdown",
   "metadata": {
    "hidden": true
   },
   "source": [
    "```\n",
    "git checkout -b branch_name\n",
    "```"
   ]
  },
  {
   "cell_type": "markdown",
   "metadata": {
    "heading_collapsed": true,
    "hidden": true
   },
   "source": [
    "### Work on an existing branch"
   ]
  },
  {
   "cell_type": "markdown",
   "metadata": {
    "hidden": true
   },
   "source": [
    "```\n",
    "git checkout branch_name\n",
    "```"
   ]
  },
  {
   "cell_type": "markdown",
   "metadata": {
    "heading_collapsed": true,
    "hidden": true
   },
   "source": [
    "#### Extra note on checking out a commit"
   ]
  },
  {
   "cell_type": "markdown",
   "metadata": {
    "hidden": true
   },
   "source": [
    "You can also checkout a _past commit_ by giving the SHA (hash) ID and work off this! This can be tricky so always be careful! Notice you don't have to give the full hash if it is unique amongst all the IDs in your repo's history."
   ]
  },
  {
   "cell_type": "markdown",
   "metadata": {
    "hidden": true
   },
   "source": [
    "```\n",
    "git checkout a80d3ce4\n",
    "```"
   ]
  },
  {
   "cell_type": "markdown",
   "metadata": {
    "hidden": true
   },
   "source": [
    "This can be really helpful if you want to roll back time and create a new branch here!"
   ]
  },
  {
   "cell_type": "markdown",
   "metadata": {
    "heading_collapsed": true,
    "hidden": true
   },
   "source": [
    "### A note on remote branches"
   ]
  },
  {
   "cell_type": "markdown",
   "metadata": {
    "hidden": true
   },
   "source": [
    "If you run the `git branch` after cloning or pulling from a remote repo, you'll likely notice you will only see the `master` branch. The other remote branches are actually there too! You can run `git branch -r` to see the list of branches, including remote ones!"
   ]
  },
  {
   "cell_type": "markdown",
   "metadata": {
    "hidden": true
   },
   "source": [
    "Also know that to checkout a branch that was pulled from a remote repository (think GitHub again), we need to specify the branch explicitly:"
   ]
  },
  {
   "cell_type": "markdown",
   "metadata": {
    "hidden": true
   },
   "source": [
    "```\n",
    "git checkout origin/other_branch\n",
    "```"
   ]
  },
  {
   "cell_type": "markdown",
   "metadata": {
    "heading_collapsed": true
   },
   "source": [
    "# Merges"
   ]
  },
  {
   "cell_type": "markdown",
   "metadata": {
    "hidden": true
   },
   "source": [
    "`git merge other_branch`: Merges the **other_branch** into your current branch you're on "
   ]
  },
  {
   "cell_type": "markdown",
   "metadata": {
    "hidden": true
   },
   "source": [
    "<img src='https://www.atlassian.com/dam/jcr:91b1bdf5-fda3-4d20-b108-0bb9eea402b2/08.svg' width=80%/>\n",
    "\n",
    "> https://www.atlassian.com/git/tutorials/using-branches/git-merge"
   ]
  },
  {
   "cell_type": "markdown",
   "metadata": {
    "hidden": true
   },
   "source": [
    "If the branch you're merging into your current branch just has additional changes that your original branch doesn't have, it will simply add those changes in. We call this a **fast-forward** merge."
   ]
  },
  {
   "cell_type": "markdown",
   "metadata": {
    "heading_collapsed": true,
    "hidden": true
   },
   "source": [
    "## When There's Conflict"
   ]
  },
  {
   "cell_type": "markdown",
   "metadata": {
    "hidden": true
   },
   "source": [
    "Sometimes working others can cause conflicts...\n",
    "\n",
    "What happens if we try to merge a branch but there are major differences to the same file in each branch? What's the best way to merge these? Git doesn't know and gives you a **merge conflict** to let you know you have to figure this one out manually. See the next notebook [git_advanced.ipynb](git_advanced.ipynb) for more details."
   ]
  },
  {
   "cell_type": "markdown",
   "metadata": {
    "hidden": true
   },
   "source": [
    "https://www.atlassian.com/git/tutorials/using-branches/merge-conflicts"
   ]
  }
 ],
 "metadata": {
  "kernelspec": {
   "display_name": "Python 3",
   "language": "python",
   "name": "python3"
  },
  "language_info": {
   "codemirror_mode": {
    "name": "ipython",
    "version": 3
   },
   "file_extension": ".py",
   "mimetype": "text/x-python",
   "name": "python",
   "nbconvert_exporter": "python",
   "pygments_lexer": "ipython3",
   "version": "3.8.5"
  },
  "toc": {
   "base_numbering": 1,
   "nav_menu": {},
   "number_sections": true,
   "sideBar": false,
   "skip_h1_title": false,
   "title_cell": "Table of Contents",
   "title_sidebar": "Contents",
   "toc_cell": true,
   "toc_position": {},
   "toc_section_display": false,
   "toc_window_display": false
  },
  "varInspector": {
   "cols": {
    "lenName": 16,
    "lenType": 16,
    "lenVar": 40
   },
   "kernels_config": {
    "python": {
     "delete_cmd_postfix": "",
     "delete_cmd_prefix": "del ",
     "library": "var_list.py",
     "varRefreshCmd": "print(var_dic_list())"
    },
    "r": {
     "delete_cmd_postfix": ") ",
     "delete_cmd_prefix": "rm(",
     "library": "var_list.r",
     "varRefreshCmd": "cat(var_dic_list()) "
    }
   },
   "types_to_exclude": [
    "module",
    "function",
    "builtin_function_or_method",
    "instance",
    "_Feature"
   ],
   "window_display": false
  }
 },
 "nbformat": 4,
 "nbformat_minor": 2
}
