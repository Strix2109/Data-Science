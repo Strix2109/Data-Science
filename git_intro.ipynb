{
 "cells": [
  {
   "cell_type": "markdown",
   "metadata": {
    "toc": true
   },
   "source": [
    "<h1>Table of Contents<span class=\"tocSkip\"></span></h1>\n",
    "<div class=\"toc\"><ul class=\"toc-item\"><li><span><a href=\"#Version-Control\" data-toc-modified-id=\"Version-Control-1\"><span class=\"toc-item-num\">1&nbsp;&nbsp;</span>Version Control</a></span><ul class=\"toc-item\"><li><span><a href=\"#Q:-Why-do-you-think-version-control-is-important?-Can-you-think-of-a-use-case?\" data-toc-modified-id=\"Q:-Why-do-you-think-version-control-is-important?-Can-you-think-of-a-use-case?-1.1\"><span class=\"toc-item-num\">1.1&nbsp;&nbsp;</span>Q: Why do you think version control is important? Can you think of a use case?</a></span></li><li><span><a href=\"#Options\" data-toc-modified-id=\"Options-1.2\"><span class=\"toc-item-num\">1.2&nbsp;&nbsp;</span>Options</a></span></li></ul></li><li><span><a href=\"#Git-is-Super-Common\" data-toc-modified-id=\"Git-is-Super-Common-2\"><span class=\"toc-item-num\">2&nbsp;&nbsp;</span>Git is Super Common</a></span></li><li><span><a href=\"#Basic-git-Workflow\" data-toc-modified-id=\"Basic-git-Workflow-3\"><span class=\"toc-item-num\">3&nbsp;&nbsp;</span>Basic <code>git</code> Workflow</a></span></li></ul></div>"
   ]
  },
  {
   "cell_type": "markdown",
   "metadata": {
    "heading_collapsed": true
   },
   "source": [
    "# Version Control"
   ]
  },
  {
   "cell_type": "markdown",
   "metadata": {
    "heading_collapsed": true,
    "hidden": true
   },
   "source": [
    "## Q: Why do you think version control is important? Can you think of a use case?"
   ]
  },
  {
   "cell_type": "markdown",
   "metadata": {
    "heading_collapsed": true,
    "hidden": true
   },
   "source": [
    "## Options"
   ]
  },
  {
   "cell_type": "markdown",
   "metadata": {
    "hidden": true
   },
   "source": [
    "<img src='https://i.redd.it/ckj3io6qf1y01.jpg' width=60%/>"
   ]
  },
  {
   "cell_type": "markdown",
   "metadata": {
    "hidden": true
   },
   "source": [
    "![](https://www.reddit.com/r/ProgrammerHumor/comments/8jmgh2/version_control/)"
   ]
  },
  {
   "cell_type": "markdown",
   "metadata": {
    "hidden": true
   },
   "source": [
    "- Saving a new file each change is frustrating and can be too much over time!\n",
    "- subversion: lockout one editor at a time\n",
    "- `git` or Git: save just the changes!"
   ]
  },
  {
   "cell_type": "markdown",
   "metadata": {
    "heading_collapsed": true
   },
   "source": [
    "# Git is Super Common"
   ]
  },
  {
   "cell_type": "markdown",
   "metadata": {
    "hidden": true
   },
   "source": [
    "https://insights.stackoverflow.com/survey/2018/#work-_-version-control"
   ]
  },
  {
   "cell_type": "markdown",
   "metadata": {
    "hidden": true
   },
   "source": [
    "<img src='https://imgs.xkcd.com/comics/git.png'/>"
   ]
  },
  {
   "cell_type": "markdown",
   "metadata": {
    "heading_collapsed": true
   },
   "source": [
    "# Basic `git` Workflow"
   ]
  },
  {
   "cell_type": "markdown",
   "metadata": {
    "hidden": true
   },
   "source": [
    "<img src='https://res.cloudinary.com/practicaldev/image/fetch/s--Si7ksd-d--/c_limit%2Cf_auto%2Cfl_progressive%2Cq_auto%2Cw_880/https://cdn-images-1.medium.com/max/800/1%2AdiRLm1S5hkVoh5qeArND0Q.png'/>\n",
    "\n",
    "> Source: https://dev.to/sublimegeek/git-staging-area-explained-like-im-five-1anh"
   ]
  },
  {
   "cell_type": "markdown",
   "metadata": {
    "hidden": true
   },
   "source": [
    "```\n",
    "git add file_or_files\n",
    "git commit -m \"Message\"\n",
    "git push\n",
    "```"
   ]
  },
  {
   "cell_type": "markdown",
   "metadata": {
    "hidden": true
   },
   "source": [
    "- `git status`: what is staged? working directory?\n",
    "- `git diff`: differences between commits or working directory\n",
    "- `git log`: all the changes"
   ]
  }
 ],
 "metadata": {
  "kernelspec": {
   "display_name": "Python 3",
   "language": "python",
   "name": "python3"
  },
  "language_info": {
   "codemirror_mode": {
    "name": "ipython",
    "version": 3
   },
   "file_extension": ".py",
   "mimetype": "text/x-python",
   "name": "python",
   "nbconvert_exporter": "python",
   "pygments_lexer": "ipython3",
   "version": "3.8.5"
  },
  "toc": {
   "base_numbering": 1,
   "nav_menu": {},
   "number_sections": true,
   "sideBar": false,
   "skip_h1_title": false,
   "title_cell": "Table of Contents",
   "title_sidebar": "Contents",
   "toc_cell": true,
   "toc_position": {},
   "toc_section_display": false,
   "toc_window_display": false
  },
  "varInspector": {
   "cols": {
    "lenName": 16,
    "lenType": 16,
    "lenVar": 40
   },
   "kernels_config": {
    "python": {
     "delete_cmd_postfix": "",
     "delete_cmd_prefix": "del ",
     "library": "var_list.py",
     "varRefreshCmd": "print(var_dic_list())"
    },
    "r": {
     "delete_cmd_postfix": ") ",
     "delete_cmd_prefix": "rm(",
     "library": "var_list.r",
     "varRefreshCmd": "cat(var_dic_list()) "
    }
   },
   "types_to_exclude": [
    "module",
    "function",
    "builtin_function_or_method",
    "instance",
    "_Feature"
   ],
   "window_display": false
  }
 },
 "nbformat": 4,
 "nbformat_minor": 2
}
