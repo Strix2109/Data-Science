{
 "cells": [
  {
   "cell_type": "markdown",
   "metadata": {
    "toc": true
   },
   "source": [
    "<h1>Table of Contents<span class=\"tocSkip\"></span></h1>\n",
    "<div class=\"toc\"><ul class=\"toc-item\"><li><span><a href=\"#Steps:\" data-toc-modified-id=\"Steps:-1\"><span class=\"toc-item-num\">1&nbsp;&nbsp;</span>Steps:</a></span><ul class=\"toc-item\"><li><span><a href=\"#Person-1-(The-Owner):\" data-toc-modified-id=\"Person-1-(The-Owner):-1.1\"><span class=\"toc-item-num\">1.1&nbsp;&nbsp;</span>Person 1 (The Owner):</a></span></li><li><span><a href=\"#Person-2-(The-Contributor):\" data-toc-modified-id=\"Person-2-(The-Contributor):-1.2\"><span class=\"toc-item-num\">1.2&nbsp;&nbsp;</span>Person 2 (The Contributor):</a></span></li><li><span><a href=\"#Reflection\" data-toc-modified-id=\"Reflection-1.3\"><span class=\"toc-item-num\">1.3&nbsp;&nbsp;</span>Reflection</a></span></li></ul></li><li><span><a href=\"#Some-Extra-Resources\" data-toc-modified-id=\"Some-Extra-Resources-2\"><span class=\"toc-item-num\">2&nbsp;&nbsp;</span>Some Extra Resources</a></span></li></ul></div>"
   ]
  },
  {
   "cell_type": "markdown",
   "metadata": {},
   "source": [
    "You're going to collaborate on a GitHub repo!\n",
    "\n",
    "**Objective:**\n",
    "- You will create a repo on GitHub and then share it with your partner to learn how to collaborate on a GitHub repo together."
   ]
  },
  {
   "cell_type": "markdown",
   "metadata": {
    "heading_collapsed": true
   },
   "source": [
    "# Steps:"
   ]
  },
  {
   "cell_type": "markdown",
   "metadata": {
    "hidden": true
   },
   "source": [
    "You'll be split into group of at least two where one person will be the owner of the repo and the other person (or persons) will be creating a new branch ad doing a pull request to merge their work into the main (master) branch.\n",
    "\n",
    "Since each person will do different steps, it might be good to repeat the process again but switch roles."
   ]
  },
  {
   "cell_type": "markdown",
   "metadata": {
    "heading_collapsed": true,
    "hidden": true
   },
   "source": [
    "## Person 1 (The Owner):"
   ]
  },
  {
   "cell_type": "markdown",
   "metadata": {
    "hidden": true
   },
   "source": [
    "* Create a (public) repo on GitHub\n",
    "* Create a single commit (Add to your README.md)\n",
    "* Push your commit to your repo\n",
    "    - Confirm that it exists on GitHub!\n",
    "* Share the link to your GitHub repo with your partner\n",
    "* Add [write permissions](https://help.github.com/en/github/setting-up-and-managing-your-github-user-account/inviting-collaborators-to-a-personal-repository) to your partner for your repo\n",
    "    - Note: We could have done Forks instead\n",
    "* Once your partner has made a pull request to merge, you will accept the request to merge it into the master branch"
   ]
  },
  {
   "cell_type": "markdown",
   "metadata": {
    "heading_collapsed": true,
    "hidden": true
   },
   "source": [
    "## Person 2 (The Contributor):"
   ]
  },
  {
   "cell_type": "markdown",
   "metadata": {
    "hidden": true
   },
   "source": [
    "* Get the link for the new repo (from the Owner)\n",
    "* Clone it to your local machine\n",
    "* Create a new branch\n",
    "    - You can call it whatever you want!\n",
    "* Make a new commit on that branch\n",
    "* Push that branch to the repo\n",
    "* Make a pull request (have the Owner approve)"
   ]
  },
  {
   "cell_type": "markdown",
   "metadata": {
    "heading_collapsed": true,
    "hidden": true
   },
   "source": [
    "## Reflection"
   ]
  },
  {
   "cell_type": "markdown",
   "metadata": {
    "hidden": true
   },
   "source": [
    "Confirm with one another that you were successfully able to do all the steps and make the merge via the pull request on GitHub.\n",
    "\n",
    "Then celebrate by sharing the repo on Slack! 🥳\n",
    "\n",
    "Then you can swap roles and help each other do it again! This will help you practice collaborating with others using git and GitHub!"
   ]
  },
  {
   "cell_type": "markdown",
   "metadata": {
    "hidden": true
   },
   "source": [
    "If you have any questions, don't be afraid to reach out for help! Git can sometimes be very intimidating so don't worry if you get a little lost in the process."
   ]
  },
  {
   "cell_type": "markdown",
   "metadata": {
    "heading_collapsed": true
   },
   "source": [
    "# Some Extra Resources"
   ]
  },
  {
   "cell_type": "markdown",
   "metadata": {
    "hidden": true
   },
   "source": [
    "Remember you can go through the [notebooks on git](../) for some extra review"
   ]
  },
  {
   "cell_type": "markdown",
   "metadata": {
    "hidden": true
   },
   "source": [
    "Here is the documentation help on GitHub's pull request: https://help.github.com/en/github/collaborating-with-issues-and-pull-requests/about-pull-requests\n",
    "> Also a little more detail on a pull request merges: https://help.github.com/en/github/collaborating-with-issues-and-pull-requests/about-pull-request-merges\n",
    "\n",
    "Also, this is a useful tutorial from Atlassian on when a pull request might make sense: https://www.atlassian.com/git/tutorials/making-a-pull-request"
   ]
  }
 ],
 "metadata": {
  "kernelspec": {
   "display_name": "Python 3",
   "language": "python",
   "name": "python3"
  },
  "language_info": {
   "codemirror_mode": {
    "name": "ipython",
    "version": 3
   },
   "file_extension": ".py",
   "mimetype": "text/x-python",
   "name": "python",
   "nbconvert_exporter": "python",
   "pygments_lexer": "ipython3",
   "version": "3.8.5"
  },
  "toc": {
   "base_numbering": 1,
   "nav_menu": {},
   "number_sections": true,
   "sideBar": false,
   "skip_h1_title": false,
   "title_cell": "Table of Contents",
   "title_sidebar": "Contents",
   "toc_cell": true,
   "toc_position": {},
   "toc_section_display": false,
   "toc_window_display": false
  },
  "varInspector": {
   "cols": {
    "lenName": 16,
    "lenType": 16,
    "lenVar": 40
   },
   "kernels_config": {
    "python": {
     "delete_cmd_postfix": "",
     "delete_cmd_prefix": "del ",
     "library": "var_list.py",
     "varRefreshCmd": "print(var_dic_list())"
    },
    "r": {
     "delete_cmd_postfix": ") ",
     "delete_cmd_prefix": "rm(",
     "library": "var_list.r",
     "varRefreshCmd": "cat(var_dic_list()) "
    }
   },
   "types_to_exclude": [
    "module",
    "function",
    "builtin_function_or_method",
    "instance",
    "_Feature"
   ],
   "window_display": false
  }
 },
 "nbformat": 4,
 "nbformat_minor": 2
}
